{
 "cells": [
  {
   "cell_type": "markdown",
   "metadata": {},
   "source": [
    "http://spark.apache.org/docs/2.1.0/api/python/pyspark.sql.html"
   ]
  },
  {
   "cell_type": "code",
   "execution_count": 1,
   "metadata": {},
   "outputs": [],
   "source": [
    "import findspark\n",
    "findspark.init()\n",
    "\n",
    "import pyspark\n",
    "from pyspark.sql import SparkSession\n",
    "from pyspark import SparkContext\n",
    "import pyspark.sql.functions as func\n"
   ]
  },
  {
   "cell_type": "code",
   "execution_count": null,
   "metadata": {},
   "outputs": [],
   "source": []
  },
  {
   "cell_type": "code",
   "execution_count": 15,
   "metadata": {},
   "outputs": [
    {
     "ename": "TypeError",
     "evalue": "'Builder' object is not callable",
     "output_type": "error",
     "traceback": [
      "\u001b[0;31m---------------------------------------------------------------------------\u001b[0m",
      "\u001b[0;31mTypeError\u001b[0m                                 Traceback (most recent call last)",
      "\u001b[0;32m<ipython-input-15-9b46e2eb7c0f>\u001b[0m in \u001b[0;36m<module>\u001b[0;34m()\u001b[0m\n\u001b[1;32m      1\u001b[0m \u001b[0;31m# create a new spark session\u001b[0m\u001b[0;34m\u001b[0m\u001b[0;34m\u001b[0m\u001b[0m\n\u001b[1;32m      2\u001b[0m \u001b[0;34m\u001b[0m\u001b[0m\n\u001b[0;32m----> 3\u001b[0;31m \u001b[0mspark\u001b[0m \u001b[0;34m=\u001b[0m \u001b[0mSparkSession\u001b[0m            \u001b[0;34m.\u001b[0m\u001b[0mbuilder\u001b[0m\u001b[0;34m(\u001b[0m\u001b[0;34m)\u001b[0m\u001b[0;34m\u001b[0m\u001b[0m\n\u001b[0m",
      "\u001b[0;31mTypeError\u001b[0m: 'Builder' object is not callable"
     ]
    }
   ],
   "source": [
    "# create a new spark session\n",
    "\n",
    "spark = SparkSession\\\n",
    "            .builder"
   ]
  },
  {
   "cell_type": "code",
   "execution_count": null,
   "metadata": {},
   "outputs": [],
   "source": []
  },
  {
   "cell_type": "code",
   "execution_count": 3,
   "metadata": {},
   "outputs": [],
   "source": [
    "jdbcHostname = \"production-green.omnibnk.io\"\n",
    "jdbcDatabase = \"production_service_documents_db\"                                       \n",
    "jdbcUsername='platform_risk'                                                              \n",
    "jdbcPassword='KG9EsjXsZ6nsNyQq'"
   ]
  },
  {
   "cell_type": "code",
   "execution_count": 4,
   "metadata": {},
   "outputs": [],
   "source": [
    "# define jdbc url to write\n",
    "jdbcUrl = \"jdbc:postgresql://{0}:{1}/{2}\".format(jdbcHostname, 5432, jdbcDatabase)\n",
    "connectionProperties = {                                                                  \n",
    "  \"user\" : jdbcUsername,\n",
    "  \"password\" : jdbcPassword,\n",
    "  \"driver\": 'org.postgresql.Driver',                                                      \n",
    "  \"stringtype\": \"unspecified\"                                                             \n",
    "}"
   ]
  },
  {
   "cell_type": "code",
   "execution_count": 5,
   "metadata": {},
   "outputs": [],
   "source": [
    "INVOICES = \"\"\"(\n",
    "SELECT\n",
    "    id, amount_total\n",
    "FROM invoices\n",
    "WHERE \n",
    "    issue_date >= NOW() - INTERVAL '20' hour\n",
    "    AND issue_date <= NOW()\n",
    ") as data_table\n",
    "\"\"\"\n"
   ]
  },
  {
   "cell_type": "code",
   "execution_count": 6,
   "metadata": {},
   "outputs": [],
   "source": [
    "df_invoices = spark.read.jdbc(\n",
    "                    url=jdbcUrl,\n",
    "                    table=INVOICES,\n",
    "                    properties=connectionProperties)"
   ]
  },
  {
   "cell_type": "code",
   "execution_count": 12,
   "metadata": {},
   "outputs": [],
   "source": [
    "jdbcPort = 5432                                                                           \n",
    "jdbcHostname = \"ec2-50-19-109-120.compute-1.amazonaws.com\"\n",
    "jdbcDatabase = \"d3p4ja95tq65b6\"         \n",
    "jdbcUsername='rxyunyrozqzfts'                                                              \n",
    "jdbcPassword='8906da7d7d9a87bc1c65f515a1c559b76e5985cdba6f7d29c6dbdb2fa97fb685'\n",
    "\n",
    "# jdbc url para conectarse a la base de datos\n",
    "jdbcUrl = \"jdbc:postgresql://{0}:{1}/{2}\".format(jdbcHostname, jdbcPort, jdbcDatabase)\n",
    "\n",
    "# propiedades para la conexion a la base de datos\n",
    "connectionProperties = {                                                                  \n",
    "  \"user\" : jdbcUsername,\n",
    "  \"password\" : jdbcPassword,\n",
    "  \"driver\": 'org.postgresql.Driver',                                                      \n",
    "  \"stringtype\": \"unspecified\"                                                             \n",
    "}"
   ]
  },
  {
   "cell_type": "code",
   "execution_count": 13,
   "metadata": {},
   "outputs": [
    {
     "ename": "Py4JJavaError",
     "evalue": "An error occurred while calling o74.jdbc.\n: org.postgresql.util.PSQLException: FATAL: no pg_hba.conf entry for host \"200.91.206.9\", user \"rxyunyrozqzfts\", database \"d3p4ja95tq65b6\", SSL off\n\tat org.postgresql.core.v3.ConnectionFactoryImpl.doAuthentication(ConnectionFactoryImpl.java:446)\n\tat org.postgresql.core.v3.ConnectionFactoryImpl.openConnectionImpl(ConnectionFactoryImpl.java:220)\n\tat org.postgresql.core.ConnectionFactory.openConnection(ConnectionFactory.java:55)\n\tat org.postgresql.jdbc.PgConnection.<init>(PgConnection.java:219)\n\tat org.postgresql.Driver.makeConnection(Driver.java:407)\n\tat org.postgresql.Driver.connect(Driver.java:275)\n\tat org.apache.spark.sql.execution.datasources.jdbc.DriverWrapper.connect(DriverWrapper.scala:45)\n\tat org.apache.spark.sql.execution.datasources.jdbc.JdbcUtils$$anonfun$createConnectionFactory$1.apply(JdbcUtils.scala:63)\n\tat org.apache.spark.sql.execution.datasources.jdbc.JdbcUtils$$anonfun$createConnectionFactory$1.apply(JdbcUtils.scala:54)\n\tat org.apache.spark.sql.execution.datasources.jdbc.JdbcRelationProvider.createRelation(JdbcRelationProvider.scala:63)\n\tat org.apache.spark.sql.execution.datasources.SaveIntoDataSourceCommand.run(SaveIntoDataSourceCommand.scala:45)\n\tat org.apache.spark.sql.execution.command.ExecutedCommandExec.sideEffectResult$lzycompute(commands.scala:70)\n\tat org.apache.spark.sql.execution.command.ExecutedCommandExec.sideEffectResult(commands.scala:68)\n\tat org.apache.spark.sql.execution.command.ExecutedCommandExec.doExecute(commands.scala:86)\n\tat org.apache.spark.sql.execution.SparkPlan$$anonfun$execute$1.apply(SparkPlan.scala:131)\n\tat org.apache.spark.sql.execution.SparkPlan$$anonfun$execute$1.apply(SparkPlan.scala:127)\n\tat org.apache.spark.sql.execution.SparkPlan$$anonfun$executeQuery$1.apply(SparkPlan.scala:155)\n\tat org.apache.spark.rdd.RDDOperationScope$.withScope(RDDOperationScope.scala:151)\n\tat org.apache.spark.sql.execution.SparkPlan.executeQuery(SparkPlan.scala:152)\n\tat org.apache.spark.sql.execution.SparkPlan.execute(SparkPlan.scala:127)\n\tat org.apache.spark.sql.execution.QueryExecution.toRdd$lzycompute(QueryExecution.scala:80)\n\tat org.apache.spark.sql.execution.QueryExecution.toRdd(QueryExecution.scala:80)\n\tat org.apache.spark.sql.DataFrameWriter$$anonfun$runCommand$1.apply(DataFrameWriter.scala:654)\n\tat org.apache.spark.sql.DataFrameWriter$$anonfun$runCommand$1.apply(DataFrameWriter.scala:654)\n\tat org.apache.spark.sql.execution.SQLExecution$.withNewExecutionId(SQLExecution.scala:77)\n\tat org.apache.spark.sql.DataFrameWriter.runCommand(DataFrameWriter.scala:654)\n\tat org.apache.spark.sql.DataFrameWriter.saveToV1Source(DataFrameWriter.scala:273)\n\tat org.apache.spark.sql.DataFrameWriter.save(DataFrameWriter.scala:267)\n\tat org.apache.spark.sql.DataFrameWriter.jdbc(DataFrameWriter.scala:499)\n\tat sun.reflect.NativeMethodAccessorImpl.invoke0(Native Method)\n\tat sun.reflect.NativeMethodAccessorImpl.invoke(NativeMethodAccessorImpl.java:62)\n\tat sun.reflect.DelegatingMethodAccessorImpl.invoke(DelegatingMethodAccessorImpl.java:43)\n\tat java.lang.reflect.Method.invoke(Method.java:498)\n\tat py4j.reflection.MethodInvoker.invoke(MethodInvoker.java:244)\n\tat py4j.reflection.ReflectionEngine.invoke(ReflectionEngine.java:357)\n\tat py4j.Gateway.invoke(Gateway.java:282)\n\tat py4j.commands.AbstractCommand.invokeMethod(AbstractCommand.java:132)\n\tat py4j.commands.CallCommand.execute(CallCommand.java:79)\n\tat py4j.GatewayConnection.run(GatewayConnection.java:238)\n\tat java.lang.Thread.run(Thread.java:748)\n",
     "output_type": "error",
     "traceback": [
      "\u001b[0;31m---------------------------------------------------------------------------\u001b[0m",
      "\u001b[0;31mPy4JJavaError\u001b[0m                             Traceback (most recent call last)",
      "\u001b[0;32m<ipython-input-13-af0f9956c114>\u001b[0m in \u001b[0;36m<module>\u001b[0;34m()\u001b[0m\n\u001b[1;32m      2\u001b[0m                                  \u001b[0mtable\u001b[0m \u001b[0;34m=\u001b[0m \u001b[0;34m\"test_invoices\"\u001b[0m\u001b[0;34m,\u001b[0m\u001b[0;34m\u001b[0m\u001b[0m\n\u001b[1;32m      3\u001b[0m                                  \u001b[0mmode\u001b[0m \u001b[0;34m=\u001b[0m \u001b[0;34m\"overwrite\"\u001b[0m\u001b[0;34m,\u001b[0m\u001b[0;34m\u001b[0m\u001b[0m\n\u001b[0;32m----> 4\u001b[0;31m                                  properties = connectionProperties)\n\u001b[0m",
      "\u001b[0;32m/usr/local/spark/python/pyspark/sql/readwriter.py\u001b[0m in \u001b[0;36mjdbc\u001b[0;34m(self, url, table, mode, properties)\u001b[0m\n\u001b[1;32m    940\u001b[0m         \u001b[0;32mfor\u001b[0m \u001b[0mk\u001b[0m \u001b[0;32min\u001b[0m \u001b[0mproperties\u001b[0m\u001b[0;34m:\u001b[0m\u001b[0;34m\u001b[0m\u001b[0m\n\u001b[1;32m    941\u001b[0m             \u001b[0mjprop\u001b[0m\u001b[0;34m.\u001b[0m\u001b[0msetProperty\u001b[0m\u001b[0;34m(\u001b[0m\u001b[0mk\u001b[0m\u001b[0;34m,\u001b[0m \u001b[0mproperties\u001b[0m\u001b[0;34m[\u001b[0m\u001b[0mk\u001b[0m\u001b[0;34m]\u001b[0m\u001b[0;34m)\u001b[0m\u001b[0;34m\u001b[0m\u001b[0m\n\u001b[0;32m--> 942\u001b[0;31m         \u001b[0mself\u001b[0m\u001b[0;34m.\u001b[0m\u001b[0mmode\u001b[0m\u001b[0;34m(\u001b[0m\u001b[0mmode\u001b[0m\u001b[0;34m)\u001b[0m\u001b[0;34m.\u001b[0m\u001b[0m_jwrite\u001b[0m\u001b[0;34m.\u001b[0m\u001b[0mjdbc\u001b[0m\u001b[0;34m(\u001b[0m\u001b[0murl\u001b[0m\u001b[0;34m,\u001b[0m \u001b[0mtable\u001b[0m\u001b[0;34m,\u001b[0m \u001b[0mjprop\u001b[0m\u001b[0;34m)\u001b[0m\u001b[0;34m\u001b[0m\u001b[0m\n\u001b[0m\u001b[1;32m    943\u001b[0m \u001b[0;34m\u001b[0m\u001b[0m\n\u001b[1;32m    944\u001b[0m \u001b[0;34m\u001b[0m\u001b[0m\n",
      "\u001b[0;32m/usr/local/spark/python/lib/py4j-0.10.7-src.zip/py4j/java_gateway.py\u001b[0m in \u001b[0;36m__call__\u001b[0;34m(self, *args)\u001b[0m\n\u001b[1;32m   1255\u001b[0m         \u001b[0manswer\u001b[0m \u001b[0;34m=\u001b[0m \u001b[0mself\u001b[0m\u001b[0;34m.\u001b[0m\u001b[0mgateway_client\u001b[0m\u001b[0;34m.\u001b[0m\u001b[0msend_command\u001b[0m\u001b[0;34m(\u001b[0m\u001b[0mcommand\u001b[0m\u001b[0;34m)\u001b[0m\u001b[0;34m\u001b[0m\u001b[0m\n\u001b[1;32m   1256\u001b[0m         return_value = get_return_value(\n\u001b[0;32m-> 1257\u001b[0;31m             answer, self.gateway_client, self.target_id, self.name)\n\u001b[0m\u001b[1;32m   1258\u001b[0m \u001b[0;34m\u001b[0m\u001b[0m\n\u001b[1;32m   1259\u001b[0m         \u001b[0;32mfor\u001b[0m \u001b[0mtemp_arg\u001b[0m \u001b[0;32min\u001b[0m \u001b[0mtemp_args\u001b[0m\u001b[0;34m:\u001b[0m\u001b[0;34m\u001b[0m\u001b[0m\n",
      "\u001b[0;32m/usr/local/spark/python/pyspark/sql/utils.py\u001b[0m in \u001b[0;36mdeco\u001b[0;34m(*a, **kw)\u001b[0m\n\u001b[1;32m     61\u001b[0m     \u001b[0;32mdef\u001b[0m \u001b[0mdeco\u001b[0m\u001b[0;34m(\u001b[0m\u001b[0;34m*\u001b[0m\u001b[0ma\u001b[0m\u001b[0;34m,\u001b[0m \u001b[0;34m**\u001b[0m\u001b[0mkw\u001b[0m\u001b[0;34m)\u001b[0m\u001b[0;34m:\u001b[0m\u001b[0;34m\u001b[0m\u001b[0m\n\u001b[1;32m     62\u001b[0m         \u001b[0;32mtry\u001b[0m\u001b[0;34m:\u001b[0m\u001b[0;34m\u001b[0m\u001b[0m\n\u001b[0;32m---> 63\u001b[0;31m             \u001b[0;32mreturn\u001b[0m \u001b[0mf\u001b[0m\u001b[0;34m(\u001b[0m\u001b[0;34m*\u001b[0m\u001b[0ma\u001b[0m\u001b[0;34m,\u001b[0m \u001b[0;34m**\u001b[0m\u001b[0mkw\u001b[0m\u001b[0;34m)\u001b[0m\u001b[0;34m\u001b[0m\u001b[0m\n\u001b[0m\u001b[1;32m     64\u001b[0m         \u001b[0;32mexcept\u001b[0m \u001b[0mpy4j\u001b[0m\u001b[0;34m.\u001b[0m\u001b[0mprotocol\u001b[0m\u001b[0;34m.\u001b[0m\u001b[0mPy4JJavaError\u001b[0m \u001b[0;32mas\u001b[0m \u001b[0me\u001b[0m\u001b[0;34m:\u001b[0m\u001b[0;34m\u001b[0m\u001b[0m\n\u001b[1;32m     65\u001b[0m             \u001b[0ms\u001b[0m \u001b[0;34m=\u001b[0m \u001b[0me\u001b[0m\u001b[0;34m.\u001b[0m\u001b[0mjava_exception\u001b[0m\u001b[0;34m.\u001b[0m\u001b[0mtoString\u001b[0m\u001b[0;34m(\u001b[0m\u001b[0;34m)\u001b[0m\u001b[0;34m\u001b[0m\u001b[0m\n",
      "\u001b[0;32m/usr/local/spark/python/lib/py4j-0.10.7-src.zip/py4j/protocol.py\u001b[0m in \u001b[0;36mget_return_value\u001b[0;34m(answer, gateway_client, target_id, name)\u001b[0m\n\u001b[1;32m    326\u001b[0m                 raise Py4JJavaError(\n\u001b[1;32m    327\u001b[0m                     \u001b[0;34m\"An error occurred while calling {0}{1}{2}.\\n\"\u001b[0m\u001b[0;34m.\u001b[0m\u001b[0;34m\u001b[0m\u001b[0m\n\u001b[0;32m--> 328\u001b[0;31m                     format(target_id, \".\", name), value)\n\u001b[0m\u001b[1;32m    329\u001b[0m             \u001b[0;32melse\u001b[0m\u001b[0;34m:\u001b[0m\u001b[0;34m\u001b[0m\u001b[0m\n\u001b[1;32m    330\u001b[0m                 raise Py4JError(\n",
      "\u001b[0;31mPy4JJavaError\u001b[0m: An error occurred while calling o74.jdbc.\n: org.postgresql.util.PSQLException: FATAL: no pg_hba.conf entry for host \"200.91.206.9\", user \"rxyunyrozqzfts\", database \"d3p4ja95tq65b6\", SSL off\n\tat org.postgresql.core.v3.ConnectionFactoryImpl.doAuthentication(ConnectionFactoryImpl.java:446)\n\tat org.postgresql.core.v3.ConnectionFactoryImpl.openConnectionImpl(ConnectionFactoryImpl.java:220)\n\tat org.postgresql.core.ConnectionFactory.openConnection(ConnectionFactory.java:55)\n\tat org.postgresql.jdbc.PgConnection.<init>(PgConnection.java:219)\n\tat org.postgresql.Driver.makeConnection(Driver.java:407)\n\tat org.postgresql.Driver.connect(Driver.java:275)\n\tat org.apache.spark.sql.execution.datasources.jdbc.DriverWrapper.connect(DriverWrapper.scala:45)\n\tat org.apache.spark.sql.execution.datasources.jdbc.JdbcUtils$$anonfun$createConnectionFactory$1.apply(JdbcUtils.scala:63)\n\tat org.apache.spark.sql.execution.datasources.jdbc.JdbcUtils$$anonfun$createConnectionFactory$1.apply(JdbcUtils.scala:54)\n\tat org.apache.spark.sql.execution.datasources.jdbc.JdbcRelationProvider.createRelation(JdbcRelationProvider.scala:63)\n\tat org.apache.spark.sql.execution.datasources.SaveIntoDataSourceCommand.run(SaveIntoDataSourceCommand.scala:45)\n\tat org.apache.spark.sql.execution.command.ExecutedCommandExec.sideEffectResult$lzycompute(commands.scala:70)\n\tat org.apache.spark.sql.execution.command.ExecutedCommandExec.sideEffectResult(commands.scala:68)\n\tat org.apache.spark.sql.execution.command.ExecutedCommandExec.doExecute(commands.scala:86)\n\tat org.apache.spark.sql.execution.SparkPlan$$anonfun$execute$1.apply(SparkPlan.scala:131)\n\tat org.apache.spark.sql.execution.SparkPlan$$anonfun$execute$1.apply(SparkPlan.scala:127)\n\tat org.apache.spark.sql.execution.SparkPlan$$anonfun$executeQuery$1.apply(SparkPlan.scala:155)\n\tat org.apache.spark.rdd.RDDOperationScope$.withScope(RDDOperationScope.scala:151)\n\tat org.apache.spark.sql.execution.SparkPlan.executeQuery(SparkPlan.scala:152)\n\tat org.apache.spark.sql.execution.SparkPlan.execute(SparkPlan.scala:127)\n\tat org.apache.spark.sql.execution.QueryExecution.toRdd$lzycompute(QueryExecution.scala:80)\n\tat org.apache.spark.sql.execution.QueryExecution.toRdd(QueryExecution.scala:80)\n\tat org.apache.spark.sql.DataFrameWriter$$anonfun$runCommand$1.apply(DataFrameWriter.scala:654)\n\tat org.apache.spark.sql.DataFrameWriter$$anonfun$runCommand$1.apply(DataFrameWriter.scala:654)\n\tat org.apache.spark.sql.execution.SQLExecution$.withNewExecutionId(SQLExecution.scala:77)\n\tat org.apache.spark.sql.DataFrameWriter.runCommand(DataFrameWriter.scala:654)\n\tat org.apache.spark.sql.DataFrameWriter.saveToV1Source(DataFrameWriter.scala:273)\n\tat org.apache.spark.sql.DataFrameWriter.save(DataFrameWriter.scala:267)\n\tat org.apache.spark.sql.DataFrameWriter.jdbc(DataFrameWriter.scala:499)\n\tat sun.reflect.NativeMethodAccessorImpl.invoke0(Native Method)\n\tat sun.reflect.NativeMethodAccessorImpl.invoke(NativeMethodAccessorImpl.java:62)\n\tat sun.reflect.DelegatingMethodAccessorImpl.invoke(DelegatingMethodAccessorImpl.java:43)\n\tat java.lang.reflect.Method.invoke(Method.java:498)\n\tat py4j.reflection.MethodInvoker.invoke(MethodInvoker.java:244)\n\tat py4j.reflection.ReflectionEngine.invoke(ReflectionEngine.java:357)\n\tat py4j.Gateway.invoke(Gateway.java:282)\n\tat py4j.commands.AbstractCommand.invokeMethod(AbstractCommand.java:132)\n\tat py4j.commands.CallCommand.execute(CallCommand.java:79)\n\tat py4j.GatewayConnection.run(GatewayConnection.java:238)\n\tat java.lang.Thread.run(Thread.java:748)\n"
     ]
    }
   ],
   "source": [
    "df_invoices.write.jdbc(url = jdbcUrl,\n",
    "                                 table = \"test_invoices\",\n",
    "                                 mode = \"overwrite\",\n",
    "                                 properties = connectionProperties)"
   ]
  },
  {
   "cell_type": "code",
   "execution_count": 11,
   "metadata": {},
   "outputs": [
    {
     "data": {
      "text/html": [
       "<div>\n",
       "<style scoped>\n",
       "    .dataframe tbody tr th:only-of-type {\n",
       "        vertical-align: middle;\n",
       "    }\n",
       "\n",
       "    .dataframe tbody tr th {\n",
       "        vertical-align: top;\n",
       "    }\n",
       "\n",
       "    .dataframe thead th {\n",
       "        text-align: right;\n",
       "    }\n",
       "</style>\n",
       "<table border=\"1\" class=\"dataframe\">\n",
       "  <thead>\n",
       "    <tr style=\"text-align: right;\">\n",
       "      <th></th>\n",
       "      <th>id</th>\n",
       "      <th>amount_total</th>\n",
       "    </tr>\n",
       "  </thead>\n",
       "  <tbody>\n",
       "    <tr>\n",
       "      <th>0</th>\n",
       "      <td>4201064d-ad88-4365-a665-1b0ee5123837</td>\n",
       "      <td>121975.0</td>\n",
       "    </tr>\n",
       "    <tr>\n",
       "      <th>1</th>\n",
       "      <td>f6363ec4-c26c-4738-9019-0441553d4cf1</td>\n",
       "      <td>88512.0</td>\n",
       "    </tr>\n",
       "    <tr>\n",
       "      <th>2</th>\n",
       "      <td>22bc9cd3-7767-4855-b415-e2deaf12c0ad</td>\n",
       "      <td>196752.0</td>\n",
       "    </tr>\n",
       "    <tr>\n",
       "      <th>3</th>\n",
       "      <td>e93a3639-d44a-4279-b9f4-169cdb0acabf</td>\n",
       "      <td>68339.0</td>\n",
       "    </tr>\n",
       "    <tr>\n",
       "      <th>4</th>\n",
       "      <td>2115080e-a29b-4029-9f14-560a03aa38fd</td>\n",
       "      <td>2382.0</td>\n",
       "    </tr>\n",
       "    <tr>\n",
       "      <th>5</th>\n",
       "      <td>3dd04674-10d0-46bc-8606-071ae2181f7d</td>\n",
       "      <td>410550.0</td>\n",
       "    </tr>\n",
       "    <tr>\n",
       "      <th>6</th>\n",
       "      <td>c1c6019a-3e86-4890-8912-efa202fbdb5d</td>\n",
       "      <td>12495000.0</td>\n",
       "    </tr>\n",
       "    <tr>\n",
       "      <th>7</th>\n",
       "      <td>f23f68c0-7893-4ac9-a064-00cdd527ed5d</td>\n",
       "      <td>24172.0</td>\n",
       "    </tr>\n",
       "    <tr>\n",
       "      <th>8</th>\n",
       "      <td>e088117b-a5ed-4d40-94c2-d4c1de549f88</td>\n",
       "      <td>71733.0</td>\n",
       "    </tr>\n",
       "    <tr>\n",
       "      <th>9</th>\n",
       "      <td>97532ea8-94f6-461e-933d-7fa2eb8e98a4</td>\n",
       "      <td>561085.0</td>\n",
       "    </tr>\n",
       "    <tr>\n",
       "      <th>10</th>\n",
       "      <td>ca2b9623-4496-4c9d-b839-ff5f38cbf31b</td>\n",
       "      <td>1091968.0</td>\n",
       "    </tr>\n",
       "    <tr>\n",
       "      <th>11</th>\n",
       "      <td>3714f45c-5abd-428f-afc0-fc7138586c5c</td>\n",
       "      <td>892351.0</td>\n",
       "    </tr>\n",
       "    <tr>\n",
       "      <th>12</th>\n",
       "      <td>33811b46-4aa5-4eec-b894-37648198c4dd</td>\n",
       "      <td>24098.0</td>\n",
       "    </tr>\n",
       "    <tr>\n",
       "      <th>13</th>\n",
       "      <td>a18e6892-d743-4190-b2a0-94ede9bf8bcc</td>\n",
       "      <td>3354094.0</td>\n",
       "    </tr>\n",
       "    <tr>\n",
       "      <th>14</th>\n",
       "      <td>879dd151-7169-48f2-8534-d09fd59521ef</td>\n",
       "      <td>44000.0</td>\n",
       "    </tr>\n",
       "    <tr>\n",
       "      <th>15</th>\n",
       "      <td>a9582d50-f9b6-4695-b6c5-1406022daf34</td>\n",
       "      <td>61118.0</td>\n",
       "    </tr>\n",
       "    <tr>\n",
       "      <th>16</th>\n",
       "      <td>1e8aa4bc-912c-4f5e-b253-17b6b99ef941</td>\n",
       "      <td>136850.0</td>\n",
       "    </tr>\n",
       "    <tr>\n",
       "      <th>17</th>\n",
       "      <td>005cc373-7fcf-4831-b749-3595085d9cbd</td>\n",
       "      <td>24704.0</td>\n",
       "    </tr>\n",
       "    <tr>\n",
       "      <th>18</th>\n",
       "      <td>547066ab-515a-4183-a2c8-4dc04908a4cb</td>\n",
       "      <td>199515.0</td>\n",
       "    </tr>\n",
       "    <tr>\n",
       "      <th>19</th>\n",
       "      <td>f79a1b3f-91d2-47be-a771-8fac1fccb2eb</td>\n",
       "      <td>3244383.0</td>\n",
       "    </tr>\n",
       "    <tr>\n",
       "      <th>20</th>\n",
       "      <td>10e483fb-a144-4ab4-ad8d-d5cc19541589</td>\n",
       "      <td>30429.0</td>\n",
       "    </tr>\n",
       "    <tr>\n",
       "      <th>21</th>\n",
       "      <td>4fd30453-867c-4d62-84e5-3f60cb7aad93</td>\n",
       "      <td>425000.0</td>\n",
       "    </tr>\n",
       "    <tr>\n",
       "      <th>22</th>\n",
       "      <td>0da9c7c1-47ba-4c4b-89c9-83072dbe4db6</td>\n",
       "      <td>4920137.0</td>\n",
       "    </tr>\n",
       "    <tr>\n",
       "      <th>23</th>\n",
       "      <td>3c3470f8-5bf9-4550-a235-8897a2d3dee0</td>\n",
       "      <td>119000.0</td>\n",
       "    </tr>\n",
       "    <tr>\n",
       "      <th>24</th>\n",
       "      <td>1fb8ffab-1104-4e11-94ac-9382374f109f</td>\n",
       "      <td>333755.0</td>\n",
       "    </tr>\n",
       "    <tr>\n",
       "      <th>25</th>\n",
       "      <td>adb19cec-0660-4fc1-8782-e365d0c672a1</td>\n",
       "      <td>11608.0</td>\n",
       "    </tr>\n",
       "    <tr>\n",
       "      <th>26</th>\n",
       "      <td>50e51996-7761-413f-bebf-e8d2ca4eb958</td>\n",
       "      <td>692008.0</td>\n",
       "    </tr>\n",
       "    <tr>\n",
       "      <th>27</th>\n",
       "      <td>6f4df0f0-3b41-4c1e-bb66-ee45152b180c</td>\n",
       "      <td>56990.0</td>\n",
       "    </tr>\n",
       "    <tr>\n",
       "      <th>28</th>\n",
       "      <td>32bda97b-97d4-4c1e-a2df-760e22a11cbe</td>\n",
       "      <td>66421.0</td>\n",
       "    </tr>\n",
       "    <tr>\n",
       "      <th>29</th>\n",
       "      <td>f157b4a9-5366-4c7b-9893-5747bd9308c7</td>\n",
       "      <td>571200.0</td>\n",
       "    </tr>\n",
       "    <tr>\n",
       "      <th>...</th>\n",
       "      <td>...</td>\n",
       "      <td>...</td>\n",
       "    </tr>\n",
       "    <tr>\n",
       "      <th>1794</th>\n",
       "      <td>88e5430a-5374-4afb-99e2-780656e7aff3</td>\n",
       "      <td>7357.0</td>\n",
       "    </tr>\n",
       "    <tr>\n",
       "      <th>1795</th>\n",
       "      <td>f624f58d-dbe1-484a-b943-e43c36f239ed</td>\n",
       "      <td>148750.0</td>\n",
       "    </tr>\n",
       "    <tr>\n",
       "      <th>1796</th>\n",
       "      <td>55623b8f-2809-491d-93e8-3e49ad6ab232</td>\n",
       "      <td>10000.0</td>\n",
       "    </tr>\n",
       "    <tr>\n",
       "      <th>1797</th>\n",
       "      <td>22d8d977-52d6-497a-8ad7-0e41951e6ca4</td>\n",
       "      <td>1638684.0</td>\n",
       "    </tr>\n",
       "    <tr>\n",
       "      <th>1798</th>\n",
       "      <td>3aedc818-2899-46c9-a3ec-4e3633303fa0</td>\n",
       "      <td>75003.0</td>\n",
       "    </tr>\n",
       "    <tr>\n",
       "      <th>1799</th>\n",
       "      <td>f9500d1d-dd11-4162-b9b3-956572a9cb9a</td>\n",
       "      <td>165410.0</td>\n",
       "    </tr>\n",
       "    <tr>\n",
       "      <th>1800</th>\n",
       "      <td>d691ce50-a1fe-4b17-9014-cb47bff2d11b</td>\n",
       "      <td>1053864.0</td>\n",
       "    </tr>\n",
       "    <tr>\n",
       "      <th>1801</th>\n",
       "      <td>29152038-c6a5-4c19-ab25-a0deed35630f</td>\n",
       "      <td>35001.0</td>\n",
       "    </tr>\n",
       "    <tr>\n",
       "      <th>1802</th>\n",
       "      <td>d5a10368-79ba-40ce-9555-e8c3693f6004</td>\n",
       "      <td>39999.0</td>\n",
       "    </tr>\n",
       "    <tr>\n",
       "      <th>1803</th>\n",
       "      <td>e4c02907-5c5f-426f-a850-61eb1bfd21d1</td>\n",
       "      <td>23001.0</td>\n",
       "    </tr>\n",
       "    <tr>\n",
       "      <th>1804</th>\n",
       "      <td>891d2bcc-b3a2-457b-a17a-8717fbd00d94</td>\n",
       "      <td>32859.0</td>\n",
       "    </tr>\n",
       "    <tr>\n",
       "      <th>1805</th>\n",
       "      <td>620f7472-b1f3-44f1-beb1-1d7fb8688c89</td>\n",
       "      <td>28002.0</td>\n",
       "    </tr>\n",
       "    <tr>\n",
       "      <th>1806</th>\n",
       "      <td>71903b2c-103e-4642-89f2-975c53383c08</td>\n",
       "      <td>42126.0</td>\n",
       "    </tr>\n",
       "    <tr>\n",
       "      <th>1807</th>\n",
       "      <td>7d40485f-940d-439e-b226-c06a87c27843</td>\n",
       "      <td>18500.0</td>\n",
       "    </tr>\n",
       "    <tr>\n",
       "      <th>1808</th>\n",
       "      <td>97d6b562-8aff-4814-8178-9e3ce80d96ec</td>\n",
       "      <td>69272.0</td>\n",
       "    </tr>\n",
       "    <tr>\n",
       "      <th>1809</th>\n",
       "      <td>7ec3b85e-3481-4e31-9b48-6a8ffe720901</td>\n",
       "      <td>24769.0</td>\n",
       "    </tr>\n",
       "    <tr>\n",
       "      <th>1810</th>\n",
       "      <td>e7a50b29-1da1-4ea3-b75a-bfd19bf7b635</td>\n",
       "      <td>32681.0</td>\n",
       "    </tr>\n",
       "    <tr>\n",
       "      <th>1811</th>\n",
       "      <td>146f95e1-370d-4524-8bc1-eee205f0a81a</td>\n",
       "      <td>20000.0</td>\n",
       "    </tr>\n",
       "    <tr>\n",
       "      <th>1812</th>\n",
       "      <td>c96c55ca-6c46-4d86-b7b2-a107d7cbadc0</td>\n",
       "      <td>10000.0</td>\n",
       "    </tr>\n",
       "    <tr>\n",
       "      <th>1813</th>\n",
       "      <td>08c1c976-7202-41a7-9791-ccc32e8107e8</td>\n",
       "      <td>4620.0</td>\n",
       "    </tr>\n",
       "    <tr>\n",
       "      <th>1814</th>\n",
       "      <td>feefd8a7-4f18-44e9-98d3-422ac4e07c47</td>\n",
       "      <td>82705.0</td>\n",
       "    </tr>\n",
       "    <tr>\n",
       "      <th>1815</th>\n",
       "      <td>44f007bf-b99d-4d5e-bcc8-74b94c796841</td>\n",
       "      <td>11000.0</td>\n",
       "    </tr>\n",
       "    <tr>\n",
       "      <th>1816</th>\n",
       "      <td>8fc88537-10fb-4cad-be40-95a22f750a36</td>\n",
       "      <td>559211.0</td>\n",
       "    </tr>\n",
       "    <tr>\n",
       "      <th>1817</th>\n",
       "      <td>e850eeb5-7ffc-4ab3-a2b7-3ff17ce0eb59</td>\n",
       "      <td>1205834.0</td>\n",
       "    </tr>\n",
       "    <tr>\n",
       "      <th>1818</th>\n",
       "      <td>7db0314b-2092-4267-977c-72b7bf81daab</td>\n",
       "      <td>34028.0</td>\n",
       "    </tr>\n",
       "    <tr>\n",
       "      <th>1819</th>\n",
       "      <td>8003fda3-c294-478b-bcef-b72ad7868642</td>\n",
       "      <td>195879.0</td>\n",
       "    </tr>\n",
       "    <tr>\n",
       "      <th>1820</th>\n",
       "      <td>11a69ff5-d88d-4b68-bc71-ad36f02e9b7a</td>\n",
       "      <td>814793.0</td>\n",
       "    </tr>\n",
       "    <tr>\n",
       "      <th>1821</th>\n",
       "      <td>b3bf7b46-efc1-4c96-973c-b9cf0b965f3f</td>\n",
       "      <td>101872.0</td>\n",
       "    </tr>\n",
       "    <tr>\n",
       "      <th>1822</th>\n",
       "      <td>bd1f2347-c518-4eeb-95c6-5716183385c6</td>\n",
       "      <td>171301.0</td>\n",
       "    </tr>\n",
       "    <tr>\n",
       "      <th>1823</th>\n",
       "      <td>e56f16d7-c52d-4596-8754-76e24cd791c0</td>\n",
       "      <td>180653.0</td>\n",
       "    </tr>\n",
       "  </tbody>\n",
       "</table>\n",
       "<p>1824 rows × 2 columns</p>\n",
       "</div>"
      ],
      "text/plain": [
       "                                        id  amount_total\n",
       "0     4201064d-ad88-4365-a665-1b0ee5123837      121975.0\n",
       "1     f6363ec4-c26c-4738-9019-0441553d4cf1       88512.0\n",
       "2     22bc9cd3-7767-4855-b415-e2deaf12c0ad      196752.0\n",
       "3     e93a3639-d44a-4279-b9f4-169cdb0acabf       68339.0\n",
       "4     2115080e-a29b-4029-9f14-560a03aa38fd        2382.0\n",
       "5     3dd04674-10d0-46bc-8606-071ae2181f7d      410550.0\n",
       "6     c1c6019a-3e86-4890-8912-efa202fbdb5d    12495000.0\n",
       "7     f23f68c0-7893-4ac9-a064-00cdd527ed5d       24172.0\n",
       "8     e088117b-a5ed-4d40-94c2-d4c1de549f88       71733.0\n",
       "9     97532ea8-94f6-461e-933d-7fa2eb8e98a4      561085.0\n",
       "10    ca2b9623-4496-4c9d-b839-ff5f38cbf31b     1091968.0\n",
       "11    3714f45c-5abd-428f-afc0-fc7138586c5c      892351.0\n",
       "12    33811b46-4aa5-4eec-b894-37648198c4dd       24098.0\n",
       "13    a18e6892-d743-4190-b2a0-94ede9bf8bcc     3354094.0\n",
       "14    879dd151-7169-48f2-8534-d09fd59521ef       44000.0\n",
       "15    a9582d50-f9b6-4695-b6c5-1406022daf34       61118.0\n",
       "16    1e8aa4bc-912c-4f5e-b253-17b6b99ef941      136850.0\n",
       "17    005cc373-7fcf-4831-b749-3595085d9cbd       24704.0\n",
       "18    547066ab-515a-4183-a2c8-4dc04908a4cb      199515.0\n",
       "19    f79a1b3f-91d2-47be-a771-8fac1fccb2eb     3244383.0\n",
       "20    10e483fb-a144-4ab4-ad8d-d5cc19541589       30429.0\n",
       "21    4fd30453-867c-4d62-84e5-3f60cb7aad93      425000.0\n",
       "22    0da9c7c1-47ba-4c4b-89c9-83072dbe4db6     4920137.0\n",
       "23    3c3470f8-5bf9-4550-a235-8897a2d3dee0      119000.0\n",
       "24    1fb8ffab-1104-4e11-94ac-9382374f109f      333755.0\n",
       "25    adb19cec-0660-4fc1-8782-e365d0c672a1       11608.0\n",
       "26    50e51996-7761-413f-bebf-e8d2ca4eb958      692008.0\n",
       "27    6f4df0f0-3b41-4c1e-bb66-ee45152b180c       56990.0\n",
       "28    32bda97b-97d4-4c1e-a2df-760e22a11cbe       66421.0\n",
       "29    f157b4a9-5366-4c7b-9893-5747bd9308c7      571200.0\n",
       "...                                    ...           ...\n",
       "1794  88e5430a-5374-4afb-99e2-780656e7aff3        7357.0\n",
       "1795  f624f58d-dbe1-484a-b943-e43c36f239ed      148750.0\n",
       "1796  55623b8f-2809-491d-93e8-3e49ad6ab232       10000.0\n",
       "1797  22d8d977-52d6-497a-8ad7-0e41951e6ca4     1638684.0\n",
       "1798  3aedc818-2899-46c9-a3ec-4e3633303fa0       75003.0\n",
       "1799  f9500d1d-dd11-4162-b9b3-956572a9cb9a      165410.0\n",
       "1800  d691ce50-a1fe-4b17-9014-cb47bff2d11b     1053864.0\n",
       "1801  29152038-c6a5-4c19-ab25-a0deed35630f       35001.0\n",
       "1802  d5a10368-79ba-40ce-9555-e8c3693f6004       39999.0\n",
       "1803  e4c02907-5c5f-426f-a850-61eb1bfd21d1       23001.0\n",
       "1804  891d2bcc-b3a2-457b-a17a-8717fbd00d94       32859.0\n",
       "1805  620f7472-b1f3-44f1-beb1-1d7fb8688c89       28002.0\n",
       "1806  71903b2c-103e-4642-89f2-975c53383c08       42126.0\n",
       "1807  7d40485f-940d-439e-b226-c06a87c27843       18500.0\n",
       "1808  97d6b562-8aff-4814-8178-9e3ce80d96ec       69272.0\n",
       "1809  7ec3b85e-3481-4e31-9b48-6a8ffe720901       24769.0\n",
       "1810  e7a50b29-1da1-4ea3-b75a-bfd19bf7b635       32681.0\n",
       "1811  146f95e1-370d-4524-8bc1-eee205f0a81a       20000.0\n",
       "1812  c96c55ca-6c46-4d86-b7b2-a107d7cbadc0       10000.0\n",
       "1813  08c1c976-7202-41a7-9791-ccc32e8107e8        4620.0\n",
       "1814  feefd8a7-4f18-44e9-98d3-422ac4e07c47       82705.0\n",
       "1815  44f007bf-b99d-4d5e-bcc8-74b94c796841       11000.0\n",
       "1816  8fc88537-10fb-4cad-be40-95a22f750a36      559211.0\n",
       "1817  e850eeb5-7ffc-4ab3-a2b7-3ff17ce0eb59     1205834.0\n",
       "1818  7db0314b-2092-4267-977c-72b7bf81daab       34028.0\n",
       "1819  8003fda3-c294-478b-bcef-b72ad7868642      195879.0\n",
       "1820  11a69ff5-d88d-4b68-bc71-ad36f02e9b7a      814793.0\n",
       "1821  b3bf7b46-efc1-4c96-973c-b9cf0b965f3f      101872.0\n",
       "1822  bd1f2347-c518-4eeb-95c6-5716183385c6      171301.0\n",
       "1823  e56f16d7-c52d-4596-8754-76e24cd791c0      180653.0\n",
       "\n",
       "[1824 rows x 2 columns]"
      ]
     },
     "execution_count": 11,
     "metadata": {},
     "output_type": "execute_result"
    }
   ],
   "source": [
    "df_invoices.toPandas()"
   ]
  },
  {
   "cell_type": "code",
   "execution_count": null,
   "metadata": {},
   "outputs": [],
   "source": [
    "df_invoices = df_invoices.select(\"amount_total\", \"reception_date\", \"issue_date\")"
   ]
  },
  {
   "cell_type": "code",
   "execution_count": null,
   "metadata": {},
   "outputs": [],
   "source": [
    "first = df_invoices.first()"
   ]
  },
  {
   "cell_type": "code",
   "execution_count": null,
   "metadata": {},
   "outputs": [],
   "source": [
    "import pandas as pd\n",
    "df = pd.DataFrame({\"u\":[1,2]})"
   ]
  },
  {
   "cell_type": "code",
   "execution_count": null,
   "metadata": {},
   "outputs": [],
   "source": [
    "type(df)"
   ]
  },
  {
   "cell_type": "code",
   "execution_count": null,
   "metadata": {},
   "outputs": [],
   "source": [
    "type(first)"
   ]
  },
  {
   "cell_type": "code",
   "execution_count": null,
   "metadata": {},
   "outputs": [],
   "source": [
    "type(df_invoices)"
   ]
  },
  {
   "cell_type": "code",
   "execution_count": null,
   "metadata": {},
   "outputs": [],
   "source": [
    "df_invoices.take(5)"
   ]
  },
  {
   "cell_type": "markdown",
   "metadata": {},
   "source": [
    "## Spark Transformations\n",
    "map()\n",
    "flatMap()\n",
    "filter()\n",
    "sample()\n",
    "union()\n",
    "intersection()\n",
    "distinct()\n",
    "join()\n",
    "\n",
    "## Spark Actions\n",
    "reduce()             \n",
    "collect()               \n",
    "count()\n",
    "first()    \n",
    "takeSample(withReplacement, num)    \n"
   ]
  },
  {
   "cell_type": "code",
   "execution_count": null,
   "metadata": {},
   "outputs": [],
   "source": [
    "collect = df_invoices.collect()"
   ]
  },
  {
   "cell_type": "code",
   "execution_count": null,
   "metadata": {},
   "outputs": [],
   "source": [
    "type(collect)"
   ]
  },
  {
   "cell_type": "code",
   "execution_count": null,
   "metadata": {},
   "outputs": [],
   "source": [
    "df_invoices.show()"
   ]
  },
  {
   "cell_type": "code",
   "execution_count": null,
   "metadata": {},
   "outputs": [],
   "source": [
    "df_t = df_invoices.select(\"issuer_tax_number\",\"debtor_tax_number\", \"amount_total\")"
   ]
  },
  {
   "cell_type": "code",
   "execution_count": null,
   "metadata": {},
   "outputs": [],
   "source": [
    "\n",
    "df=df_t.withColumn(\"valor_dolar\", df_t.amount_total/760)"
   ]
  },
  {
   "cell_type": "code",
   "execution_count": null,
   "metadata": {},
   "outputs": [],
   "source": [
    "df.show()"
   ]
  },
  {
   "cell_type": "code",
   "execution_count": null,
   "metadata": {},
   "outputs": [],
   "source": [
    "# queremos un df con solo issuer_tax_number, debtor_tax_number, fecha de acuse, amount_total"
   ]
  },
  {
   "cell_type": "code",
   "execution_count": null,
   "metadata": {},
   "outputs": [],
   "source": [
    "# queremos ver los valores de las facturas en dolares withColumn(\"duration_hrs\", flights.air_time/60)"
   ]
  },
  {
   "cell_type": "code",
   "execution_count": null,
   "metadata": {},
   "outputs": [],
   "source": [
    "df.filter(\"valor_dolar > 100\")"
   ]
  },
  {
   "cell_type": "code",
   "execution_count": null,
   "metadata": {},
   "outputs": [],
   "source": [
    "# filtraremos los que las facturas son superiores a 100000 flights.filter(\"distance > 1000\")"
   ]
  },
  {
   "cell_type": "code",
   "execution_count": null,
   "metadata": {},
   "outputs": [],
   "source": [
    "df_invoices.createOrReplaceTempView('invoice_table')"
   ]
  },
  {
   "cell_type": "code",
   "execution_count": null,
   "metadata": {},
   "outputs": [],
   "source": [
    "spark.sql('select issuer_tax_number, debtor_tax_number, max(amount_total) from invoice_table \\\n",
    "          group by issuer_tax_number, debtor_tax_number').show()"
   ]
  },
  {
   "cell_type": "code",
   "execution_count": null,
   "metadata": {},
   "outputs": [],
   "source": [
    "df_invoices.describe('amount_total').show()"
   ]
  },
  {
   "cell_type": "code",
   "execution_count": null,
   "metadata": {},
   "outputs": [],
   "source": []
  },
  {
   "cell_type": "code",
   "execution_count": null,
   "metadata": {},
   "outputs": [],
   "source": [
    "# las facturas de mayor monto por relacion comercial de los ultimos 45 dias"
   ]
  },
  {
   "cell_type": "code",
   "execution_count": null,
   "metadata": {},
   "outputs": [],
   "source": []
  },
  {
   "cell_type": "code",
   "execution_count": null,
   "metadata": {},
   "outputs": [],
   "source": []
  },
  {
   "cell_type": "code",
   "execution_count": null,
   "metadata": {},
   "outputs": [],
   "source": []
  },
  {
   "cell_type": "code",
   "execution_count": null,
   "metadata": {},
   "outputs": [],
   "source": [
    "cop = (df_invoicn_df.show()es.amount_total/100).alias(\"valor_en_cop\")\n",
    "in_cop = df_invoices.select(\"issuer_tax_number\", \"debtor_tax_number\", cop)"
   ]
  },
  {
   "cell_type": "code",
   "execution_count": null,
   "metadata": {},
   "outputs": [],
   "source": [
    "in_cop.printSchema()"
   ]
  },
  {
   "cell_type": "code",
   "execution_count": null,
   "metadata": {},
   "outputs": [],
   "source": [
    "df_cop = in_cop.collect()"
   ]
  },
  {
   "cell_type": "code",
   "execution_count": null,
   "metadata": {},
   "outputs": [],
   "source": [
    "type(df_cop)"
   ]
  },
  {
   "cell_type": "code",
   "execution_count": null,
   "metadata": {},
   "outputs": [],
   "source": [
    "df_cop_show = inn_df.show()_cop.show()"
   ]
  },
  {
   "cell_type": "code",
   "execution_count": null,
   "metadata": {},
   "outputs": [],
   "source": [
    "type(df_cop_show)"
   ]
  },
  {
   "cell_type": "code",
   "execution_count": null,
   "metadata": {},
   "outputs": [],
   "source": [
    "df_invoices.filter(df_invoices.issuer_tax_number == \"768800707\").groupBy(\"debtor_tax_number\").min(\"amount_total\").show()"
   ]
  },
  {
   "cell_type": "code",
   "execution_count": null,
   "metadata": {},
   "outputs": [],
   "source": [
    "df_invoices.describe('amount_total').show()"
   ]
  },
  {
   "cell_type": "code",
   "execution_count": null,
   "metadata": {},
   "outputs": [],
   "source": [
    "df_invoices.toPandas()"
   ]
  },
  {
   "cell_type": "code",
   "execution_count": null,
   "metadata": {},
   "outputs": [],
   "source": [
    "l = [('Alice', 1)]\n",
    "first_df = spark.createDataFrame(l).collect()"
   ]
  },
  {
   "cell_type": "code",
   "execution_count": null,
   "metadata": {},
   "outputs": [],
   "source": [
    "type(first_df)"
   ]
  },
  {
   "cell_type": "code",
   "execution_count": null,
   "metadata": {},
   "outputs": [],
   "source": []
  },
  {
   "cell_type": "code",
   "execution_count": null,
   "metadata": {},
   "outputs": [],
   "source": []
  },
  {
   "cell_type": "markdown",
   "metadata": {},
   "source": [
    "# Crear un dataframe desde 0"
   ]
  },
  {
   "cell_type": "code",
   "execution_count": null,
   "metadata": {},
   "outputs": [],
   "source": [
    "preguntas:\n",
    "    que es spark?\n",
    "    que tipos de operaciones se pueden hacer?\n",
    "    que version es la mas reciente?\n",
    "    que es rdd?\n",
    "    como se traen los datos desde un base de datos?\n",
    "    un ejemplo de transformacion\n",
    "    un ejemplo de accion\n",
    "    que hace toPandas?\n",
    "    \n",
    "    "
   ]
  },
  {
   "cell_type": "code",
   "execution_count": 7,
   "metadata": {},
   "outputs": [],
   "source": [
    "from pyspark.sql import Row\n",
    "\n",
    "l = [('Ankit',25),('Jalfaizy',22),('saurabh',20),('Bala',26)]\n",
    "rdd = spark.sparkContext.parallelize(l)\n",
    "people = rdd.map(lambda x: Row(name=x[0], age=int(x[1])))\n",
    "schemaPeople = spark.createDataFrame(people)"
   ]
  },
  {
   "cell_type": "code",
   "execution_count": 11,
   "metadata": {},
   "outputs": [
    {
     "data": {
      "text/plain": [
       "PythonRDD[7] at RDD at PythonRDD.scala:49"
      ]
     },
     "execution_count": 11,
     "metadata": {},
     "output_type": "execute_result"
    }
   ],
   "source": [
    "people"
   ]
  },
  {
   "cell_type": "markdown",
   "metadata": {},
   "source": [
    "# crear un schema"
   ]
  },
  {
   "cell_type": "code",
   "execution_count": 8,
   "metadata": {},
   "outputs": [
    {
     "name": "stdout",
     "output_type": "stream",
     "text": [
      "root\n",
      " |-- age: long (nullable = true)\n",
      " |-- name: string (nullable = true)\n",
      "\n"
     ]
    }
   ],
   "source": [
    "schemaPeople.printSchema()"
   ]
  },
  {
   "cell_type": "markdown",
   "metadata": {},
   "source": [
    "## traer monto, reception_date, issue_date de invoices de los ultimas 5 horas"
   ]
  },
  {
   "cell_type": "markdown",
   "metadata": {},
   "source": [
    "## crear columna con reception_date or issue_date llamada date"
   ]
  },
  {
   "cell_type": "code",
   "execution_count": null,
   "metadata": {},
   "outputs": [],
   "source": [
    "df_invoices = df_invoices.withColumn(\"date\", func.coalesce(df_invoices.reception_date, df_invoices.issue_date))"
   ]
  },
  {
   "cell_type": "markdown",
   "metadata": {},
   "source": [
    "## en una nueva columna indicar \"A\" si el monto es < 1M, \"B\" si el monto es < 10 M, \"C\" si el monto es mayor a 10M"
   ]
  },
  {
   "cell_type": "code",
   "execution_count": null,
   "metadata": {},
   "outputs": [],
   "source": [
    "def func_value_to_str(value):\n",
    "    if value < 1:\n",
    "        return \"A\"\n",
    "    elif value < 10:\n",
    "        return \"B\"\n",
    "    else:\n",
    "        return \"C\""
   ]
  },
  {
   "cell_type": "code",
   "execution_count": null,
   "metadata": {},
   "outputs": [],
   "source": [
    "from pyspark.sql.types import StringType\n",
    "udf_value_to_str = func.udf(lambda value: func_value_to_str(value), StringType())"
   ]
  },
  {
   "cell_type": "code",
   "execution_count": null,
   "metadata": {},
   "outputs": [],
   "source": [
    "df_invoices = df_invoices.withColumn(\"value_str\", udf_value_to_str('amount_total'))"
   ]
  },
  {
   "cell_type": "code",
   "execution_count": null,
   "metadata": {},
   "outputs": [],
   "source": [
    "df_invoices.show()"
   ]
  },
  {
   "cell_type": "code",
   "execution_count": null,
   "metadata": {},
   "outputs": [],
   "source": []
  },
  {
   "cell_type": "code",
   "execution_count": null,
   "metadata": {},
   "outputs": [],
   "source": []
  }
 ],
 "metadata": {
  "kernelspec": {
   "display_name": "Python 3",
   "language": "python",
   "name": "python3"
  },
  "language_info": {
   "codemirror_mode": {
    "name": "ipython",
    "version": 3
   },
   "file_extension": ".py",
   "mimetype": "text/x-python",
   "name": "python",
   "nbconvert_exporter": "python",
   "pygments_lexer": "ipython3",
   "version": "3.6.5"
  }
 },
 "nbformat": 4,
 "nbformat_minor": 2
}
